{
 "cells": [
  {
   "cell_type": "code",
   "execution_count": 8,
   "id": "5acc3309",
   "metadata": {},
   "outputs": [
    {
     "name": "stdout",
     "output_type": "stream",
     "text": [
      "if you want to start then type start ... start\n",
      "the robot has :  ['Tringle', 'Blue']\n",
      "40\n",
      "the robot has :  ['Circle', 'Blue']\n",
      "40\n",
      "the robot has :  ['Square', 'Red']\n",
      "40\n",
      "the robot has :  ['Square', 'Blue']\n",
      "40\n",
      "the robot has :  ['Square', 'Green']\n",
      "40\n",
      "the robot has :  ['Circle', 'Green']\n",
      "40\n",
      "the robot has :  ['Circle', 'Red']\n",
      "40\n",
      "the robot has :  ['Tringle', 'Red']\n",
      "40\n",
      "the robot has :  ['Tringle', 'Green']\n",
      "40\n",
      "square box :  [['Square', 'Red'], ['Square', 'Blue'], ['Square', 'Green']]\n",
      "tringle box : [['Tringle', 'Red'], ['Tringle', 'Blue'], ['Tringle', 'Green']]\n",
      "circle box :  [['Circle', 'Red'], ['Circle', 'Blue'], ['Circle', 'Green']]\n"
     ]
    }
   ],
   "source": [
    "import random\n",
    "elements = [[\"Tringle\",\"Red\"],[\"Circle\",\"Blue\"],[\"Tringle\",\"Green\"],[\"Square\",\"Red\"],[\"Circle\",\"Red\"],[\"Square\",\"Green\"],[\"Tringle\",\"Blue\"],[\"Circle\",\"Green\"],[\"Square\",\"Blue\"]]\n",
    "s=[\"Red\", \"Blue\",\"Green\"]\n",
    "t=[\"Red\", \"Blue\",\"Green\"]\n",
    "c=[\"Red\", \"Blue\",\"Green\"]\n",
    "\n",
    "start = input(\"if you want to start then type start ... \").lower()\n",
    "if (start == \"start\"):\n",
    "    \n",
    "    while(True):   \n",
    "        steps_to_the_box =0\n",
    "        if elements == []:\n",
    "            break\n",
    "    \n",
    "        steps_to_the_box +=10\n",
    "        pot1 =random.choice(elements)\n",
    "        elements.remove(pot1)\n",
    "        print(\"the robot has : \", pot1)\n",
    "    \n",
    "        if pot1[0] == \"Square\":\n",
    "            steps_to_the_box +=11\n",
    "            if pot1[1]== \"Red\":\n",
    "                s[0]= pot1\n",
    "            elif pot1[1]== \"Blue\":\n",
    "                s[1]= pot1\n",
    "            elif pot1[1]== \"Green\":\n",
    "                s[2]= pot1\n",
    "            \n",
    "        elif pot1[0] ==\"Tringle\":\n",
    "            steps_to_the_box +=15\n",
    "            if pot1[1]== \"Red\":\n",
    "                t[0]= pot1\n",
    "            elif pot1[1]== \"Blue\":\n",
    "                t[1]= pot1\n",
    "            elif pot1[1]== \"Green\":\n",
    "                t[2]= pot1\n",
    "    \n",
    "        elif pot1[0] ==\"Circle\":\n",
    "            steps_to_the_box +=19\n",
    "            if pot1[1]== \"Red\":\n",
    "                c[0]= pot1\n",
    "            elif pot1[1]== \"Blue\":\n",
    "                c[1]= pot1\n",
    "            elif pot1[1]== \"Green\":\n",
    "                c[2]= pot1\n",
    "            \n",
    "        steps_to_the_box += 40-steps_to_the_box   \n",
    "        print(steps_to_the_box)        \n",
    "\n",
    "    \n",
    "else: \n",
    "    print(\"The robot didn't start!\")\n",
    "print(\"square box : \", s) \n",
    "print(\"tringle box :\" ,t)\n",
    "print(\"circle box : \",c)"
   ]
  },
  {
   "cell_type": "code",
   "execution_count": null,
   "id": "c733f8ec",
   "metadata": {},
   "outputs": [],
   "source": []
  },
  {
   "cell_type": "code",
   "execution_count": null,
   "id": "88f73af4",
   "metadata": {},
   "outputs": [],
   "source": []
  }
 ],
 "metadata": {
  "kernelspec": {
   "display_name": "Python 3",
   "language": "python",
   "name": "python3"
  },
  "language_info": {
   "codemirror_mode": {
    "name": "ipython",
    "version": 3
   },
   "file_extension": ".py",
   "mimetype": "text/x-python",
   "name": "python",
   "nbconvert_exporter": "python",
   "pygments_lexer": "ipython3",
   "version": "3.8.8"
  },
  "varInspector": {
   "cols": {
    "lenName": 16,
    "lenType": 16,
    "lenVar": 40
   },
   "kernels_config": {
    "python": {
     "delete_cmd_postfix": "",
     "delete_cmd_prefix": "del ",
     "library": "var_list.py",
     "varRefreshCmd": "print(var_dic_list())"
    },
    "r": {
     "delete_cmd_postfix": ") ",
     "delete_cmd_prefix": "rm(",
     "library": "var_list.r",
     "varRefreshCmd": "cat(var_dic_list()) "
    }
   },
   "types_to_exclude": [
    "module",
    "function",
    "builtin_function_or_method",
    "instance",
    "_Feature"
   ],
   "window_display": false
  }
 },
 "nbformat": 4,
 "nbformat_minor": 5
}
